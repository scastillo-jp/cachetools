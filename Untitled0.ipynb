{
  "nbformat": 4,
  "nbformat_minor": 0,
  "metadata": {
    "colab": {
      "name": "Untitled0.ipynb",
      "provenance": [],
      "collapsed_sections": [],
      "include_colab_link": true
    },
    "kernelspec": {
      "name": "python3",
      "display_name": "Python 3"
    },
    "language_info": {
      "name": "python"
    }
  },
  "cells": [
    {
      "cell_type": "markdown",
      "metadata": {
        "id": "view-in-github",
        "colab_type": "text"
      },
      "source": [
        "<a href=\"https://colab.research.google.com/github/scastillo-jp/cachetools/blob/main/Untitled0.ipynb\" target=\"_parent\"><img src=\"https://colab.research.google.com/assets/colab-badge.svg\" alt=\"Open In Colab\"/></a>"
      ]
    },
    {
      "cell_type": "markdown",
      "metadata": {
        "id": "SdyiwP0uIL1e"
      },
      "source": [
        "**Cachetools**\n",
        "\n",
        "This module provides various memoizing collections and decorators. For the purpose of this module, a cache is a mutable mapping of a fixed maximum size. \n",
        "Cachetools provides us five main function.\n",
        "*   cached\n",
        "*   LRUCache\n",
        "*   TTLCache\n",
        "*   LFUCache\n",
        "*   RRCache\n",
        "\n",
        "Documentation [here](https://cachetools.readthedocs.io/en/stable/)\n",
        "\n",
        "**Installation**\n",
        "\n",
        "Cachetools is available from PyPI and can be installed by running:\n",
        "\n",
        "pip install cachetools"
      ]
    },
    {
      "cell_type": "code",
      "metadata": {
        "id": "1o4DzwxN0TN8"
      },
      "source": [
        "import requests\n",
        "import time\n",
        "\n",
        "from datetime import timedelta, datetime\n",
        "from cachetools import cached, TTLCache\n",
        "from cachetools.keys import hashkey\n",
        "from functools import partial"
      ],
      "execution_count": null,
      "outputs": []
    },
    {
      "cell_type": "markdown",
      "metadata": {
        "id": "5IZNFTudCh_o"
      },
      "source": [
        ""
      ]
    },
    {
      "cell_type": "code",
      "metadata": {
        "id": "a5xFa-9ccP6w"
      },
      "source": [
        "url = 'https://jsonplaceholder.typicode.com/users/1'"
      ],
      "execution_count": null,
      "outputs": []
    },
    {
      "cell_type": "markdown",
      "metadata": {
        "id": "UskeAf9m6zDB"
      },
      "source": [
        "**Without cached**"
      ]
    },
    {
      "cell_type": "code",
      "metadata": {
        "colab": {
          "base_uri": "https://localhost:8080/"
        },
        "id": "iEPjevPF50ub",
        "outputId": "91e8c2b7-12a7-4d9b-a380-ec92756f333a"
      },
      "source": [
        "%%timeit\n",
        "\n",
        "def get_users(url):    \n",
        "    try:\n",
        "        response = requests.get(url).content\n",
        "        return response\n",
        "    except:\n",
        "        print(\"No data available\")"
      ],
      "execution_count": null,
      "outputs": [
        {
          "output_type": "stream",
          "name": "stdout",
          "text": [
            "The slowest run took 15.05 times longer than the fastest. This could mean that an intermediate result is being cached.\n",
            "10000000 loops, best of 5: 75.5 ns per loop\n"
          ]
        }
      ]
    },
    {
      "cell_type": "markdown",
      "metadata": {
        "id": "lqD7zlbHB9ja"
      },
      "source": [
        ""
      ]
    },
    {
      "cell_type": "markdown",
      "metadata": {
        "id": "4ZF5jAftGGoz"
      },
      "source": [
        "**Memoizing decorators**\n",
        "\n",
        "The cachetools module provides decorators for memoizing function and method calls. This can save time when a function is often called.\n",
        "documentation [here](https://cachetools.readthedocs.io/en/stable/#memoizing-decorators)"
      ]
    },
    {
      "cell_type": "code",
      "metadata": {
        "id": "Vqr6SVW658GQ",
        "colab": {
          "base_uri": "https://localhost:8080/"
        },
        "outputId": "2b126365-d246-4e6e-ca1c-8e4d143f3ed5"
      },
      "source": [
        "%%timeit\n",
        "\n",
        "cache = TTLCache(maxsize=10, ttl=timedelta(weeks=2), timer=datetime.now)\n",
        "\n",
        "@cached(cache, key=partial(hashkey, 'get_users'))\n",
        "def get_users(url):    \n",
        "    try:\n",
        "        response = requests.get(url).content\n",
        "        return response\n",
        "    except:\n",
        "        print(\"No data available\")"
      ],
      "execution_count": null,
      "outputs": [
        {
          "output_type": "stream",
          "name": "stdout",
          "text": [
            "The slowest run took 9.40 times longer than the fastest. This could mean that an intermediate result is being cached.\n",
            "100000 loops, best of 5: 8.06 µs per loop\n"
          ]
        }
      ]
    },
    {
      "cell_type": "code",
      "metadata": {
        "id": "27Uyk0KMAJ2D"
      },
      "source": [
        "cache = TTLCache(maxsize=10, ttl=timedelta(weeks=2), timer=datetime.now)\n",
        "\n",
        "@cached(cache, key=partial(hashkey, 'get_users'))\n",
        "def get_users(url):    \n",
        "    try:\n",
        "        response = requests.get(url).content\n",
        "        return response\n",
        "    except:\n",
        "        print(\"No data available\")\n",
        "        \n",
        "%timeit get_users(url)"
      ],
      "execution_count": null,
      "outputs": []
    },
    {
      "cell_type": "code",
      "metadata": {
        "colab": {
          "base_uri": "https://localhost:8080/"
        },
        "id": "HRGeAK8TS7nX",
        "outputId": "de5e49e8-2612-4136-d7ff-23e024858103"
      },
      "source": [
        "cache"
      ],
      "execution_count": null,
      "outputs": [
        {
          "output_type": "execute_result",
          "data": {
            "text/plain": [
              "TTLCache([(('get_users', 'https://jsonplaceholder.typicode.com/users/1'), b'{\\n  \"id\": 1,\\n  \"name\": \"Leanne Graham\",\\n  \"username\": \"Bret\",\\n  \"email\": \"Sincere@april.biz\",\\n  \"address\": {\\n    \"street\": \"Kulas Light\",\\n    \"suite\": \"Apt. 556\",\\n    \"city\": \"Gwenborough\",\\n    \"zipcode\": \"92998-3874\",\\n    \"geo\": {\\n      \"lat\": \"-37.3159\",\\n      \"lng\": \"81.1496\"\\n    }\\n  },\\n  \"phone\": \"1-770-736-8031 x56442\",\\n  \"website\": \"hildegard.org\",\\n  \"company\": {\\n    \"name\": \"Romaguera-Crona\",\\n    \"catchPhrase\": \"Multi-layered client-server neural-net\",\\n    \"bs\": \"harness real-time e-markets\"\\n  }\\n}')], maxsize=10, currsize=1)"
            ]
          },
          "metadata": {},
          "execution_count": 16
        }
      ]
    },
    {
      "cell_type": "markdown",
      "metadata": {
        "id": "7b-z7bEjBB2x"
      },
      "source": [
        ""
      ]
    }
  ]
}